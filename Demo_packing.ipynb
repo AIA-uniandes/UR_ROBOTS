{
 "cells": [
  {
   "cell_type": "markdown",
   "id": "a87652e9",
   "metadata": {},
   "source": [
    "# Main Text"
   ]
  },
  {
   "cell_type": "markdown",
   "id": "98c4c7d9",
   "metadata": {},
   "source": [
    "## Operation Methodology\n",
    "### 1. Box Preparation:\n",
    "\n",
    "Arrange the boxes in the designated \"pick place\" area in the specific numerical order shown on one of their faces.\n",
    "\n",
    "### 2. Robot Handling:\n",
    "\n",
    "The UR robot will move each box, one at a time, to the \"packing place\" area.\n",
    "\n",
    "### 3. Box Orientation:\n",
    "It is critical that you ensure each box is placed in the correct orientation in the pick place before the robot moves it. This is essential for the robot to pack them correctly.\n",
    "\n"
   ]
  },
  {
   "cell_type": "code",
   "execution_count": 1,
   "id": "7f05dd67",
   "metadata": {},
   "outputs": [],
   "source": [
    "import Toolkit\n",
    "import time"
   ]
  },
  {
   "cell_type": "code",
   "execution_count": 2,
   "id": "0ee7951f",
   "metadata": {},
   "outputs": [
    {
     "name": "stderr",
     "output_type": "stream",
     "text": [
      "tried 11 times to find a packet in data, advertised packet size: -2, type: 3\n",
      "Data length: 68\n",
      "tried 11 times to find a packet in data, advertised packet size: -2, type: 3\n",
      "Data length: 1092\n",
      "tried 11 times to find a packet in data, advertised packet size: -2, type: 3\n",
      "Data length: 1420\n"
     ]
    }
   ],
   "source": [
    "\n",
    "base_reference_point = [-0.278, -0.334, -0.037, 1.450, -2.786, -0.027]\n",
    "base_origin_packing_point = [-0.206, -0.300, 0.037, 1.45, -2.786, -0.027]\n",
    "base_real_origin_packing_point = [0.136, -0.309, -0.037, 1.45, -2.786, -0.027]\n",
    "grip_point = [-0.201, -0.370, 0.380, 0.332, 3.131, -0.026]\n",
    "release_point = [-0.040, -0.479, 0.3, 1.450, -2.786, -0.027]\n",
    "pack_point = [0.124, -0.293, 0.380, 1.450, -2.2786, -0.028]\n",
    "\n",
    "\n",
    "\n",
    "manipulation_point = [-0.277, -0.335, 0.250, 1.450, -2.2786, -0.028]\n",
    "manipulation_pose = [-103, -123, -28, -118, 90, 359]\n",
    "robot = Toolkit.ROBOT(robot_ip=\"157.253.231.86\")\n",
    "manipulation = Toolkit.MANIPULATION()\n",
    "\n",
    "# BOXES DIMENSIONS\n",
    "Box_1_dimentions_grip = [0.083, 0.05, 0.0041]\n",
    "\n",
    "# Release point for the box\n",
    "Box1_Release_point = [0.113, -0.466, 0.095, 2.27, 1.43, -0.0]\n",
    "\n",
    "\n",
    "def repeat_packing_movement(Box_dimension_grip, manipulation_point, base_reference_point, pack_point,  release_point):\n",
    "    robot = Toolkit.ROBOT(robot_ip=\"157.253.231.86\")\n",
    "    manipulation = Toolkit.MANIPULATION()\n",
    "    manipulation.go_to_pose(robot=robot, pose=manipulation_pose)\n",
    "    time.sleep(17)\n",
    "    grip_point = [base_reference_point[0]-Box_dimension_grip[0],\n",
    "              base_reference_point[1]-Box_dimension_grip[1],\n",
    "              base_reference_point[2]+Box_dimension_grip[2]+0.12,\n",
    "              base_reference_point[3],\n",
    "              base_reference_point[4],  \n",
    "            base_reference_point[5]]\n",
    "\n",
    "    manipulation.move_linear(robot=robot, goal_point=grip_point)\n",
    "    time.sleep(4)\n",
    "    manipulation.turn_on_VG_urx(robot=robot)\n",
    "    time.sleep(2)\n",
    "    manipulation.go_to_pose(robot=robot, pose=[-117, -129, -30, -109, 90, 278])\n",
    "    time.sleep(3)\n",
    "    manipulation.go_to_pose(robot=robot, pose=[-60.62, -92, -83, -95, 90, 334])\n",
    "    time.sleep(4)\n",
    "\n",
    "    release_point\n",
    "\n",
    "    manipulation.move_linear(robot=robot, goal_point=release_point)\n",
    "    time.sleep(4)\n",
    "    manipulation.turn_off_VG_urx(robot=robot)\n",
    "    time.sleep(2)\n",
    "    return\n",
    "\n",
    "# repeat_packing_movement(Box_dimension_grip=Box_1_dimentions_grip, manipulation_point=manipulation_point, base_reference_point=base_reference_point, pack_point=pack_point, release_point=Box1_Release_point)\n",
    "# manipulation.move_linear(robot=robot, pose=manipulation_pose)"
   ]
  },
  {
   "cell_type": "markdown",
   "id": "ddf9e8be",
   "metadata": {},
   "source": [
    "Test de movimiento lineal"
   ]
  },
  {
   "cell_type": "code",
   "execution_count": null,
   "id": "1733f132",
   "metadata": {},
   "outputs": [],
   "source": [
    "paula_test1 = [0.2435,-0.3458,0.28551,0,3.142,0]\n",
    "paula_test2 = [0.30797,-0.16309, 0.37953,0,3.142,0]\n",
    "\n",
    "robot = Toolkit.ROBOT(robot_ip=\"157.253.231.86\")\n",
    "manipulation = Toolkit.MANIPULATION()\n",
    "#manipulation.go_to_home_pose(robot=robot)\n",
    "time.sleep(8)\n",
    "manipulation.move_linear(robot=robot, goal_point=paula_test1)\n",
    "time.sleep(10)\n",
    "manipulation.go_to_pose(robot=robot, pose=manipulation_pose)\n",
    "time.sleep(10)\n",
    "manipulation.move_linear(robot=robot, goal_point=paula_test2)\n",
    "time.sleep(10) \n",
    "\n"
   ]
  },
  {
   "cell_type": "markdown",
   "id": "57b37c6b",
   "metadata": {},
   "source": [
    "Pick:"
   ]
  },
  {
   "cell_type": "code",
   "execution_count": null,
   "id": "5ea41bac",
   "metadata": {},
   "outputs": [],
   "source": [
    "import numpy as np\n",
    "from numpy import sin, cos, pi\n",
    "import Toolkit\n",
    "import time\n",
    "\n",
    "point_A=[0.43874, -0.18027, 0.048, 0,-3.142, 0]\n",
    "pose_A=[-8.67, -150.98, -69.53, -49.47, 90.24, 81.30]\n",
    "\n",
    "theta=np.deg2rad(-40)\n",
    "\n",
    "box_amarilla_dim=[0.085, 0.085, 0.13]\n",
    "box_morada_dim=[ 0.085, 0.167,0.044]\n",
    "\n",
    "\n",
    "manipulation_point = [-0.277, -0.335, 0.250, 1.450, -2.2786, -0.028]\n",
    "manipulation_pose = [-68, -123, -28, -118, 90, 359]\n",
    "\n",
    "robot = Toolkit.ROBOT(robot_ip=\"157.253.231.86\")\n",
    "manipulation = Toolkit.MANIPULATION()\n",
    "def rotate_point(lista, theta):\n",
    "    \"\"\"\n",
    "    Rota un punto (x, y) un ángulo theta alrededor del origen.\n",
    "    :param x: coordenada x en el sistema original\n",
    "    :param y: coordenada y en el sistema original\n",
    "    :param theta_deg: ángulo en grados (positivo = antihorario)\n",
    "    :return: (x_rot, y_rot) coordenadas en el sistema rotado\n",
    "    \"\"\"\n",
    "    lista_rot=[]\n",
    "    x=lista[0]\n",
    "    y=lista[1]\n",
    "    x_rot = cos(theta) * x + sin(theta) * y\n",
    "    y_rot = -sin(theta) * x + cos(theta) * y\n",
    "    lista_rot.append(x_rot)\n",
    "    lista_rot.append(y_rot)\n",
    "    lista_rot.append(lista[2])\n",
    "    return lista_rot\n",
    "\n",
    "\n",
    "def pick_box(robot, manipulation, punto_pick_A, box_dims, rotation):\n",
    "    \n",
    "    manipulation.go_to_pose(robot=robot, pose=manipulation_pose)\n",
    "    time.sleep(8)\n",
    "    target=[punto_pick_A[0]-box_dims[0]/2, punto_pick_A[1]+box_dims[1]/2, punto_pick_A[2]+box_dims[2], punto_pick_A[3], punto_pick_A[4], punto_pick_A[5]]\n",
    "    manipulation.move_linear(robot=robot, goal_point=target)\n",
    "    time.sleep(8)\n",
    "    manipulation.turn_on_VG_urx(robot=robot)\n",
    "    time.sleep(5)\n",
    "    manipulation.go_to_pose(robot=robot, pose=manipulation_pose)\n",
    "    return\n",
    "pick_box(robot=robot, manipulation=manipulation, punto_pick_A=point_A, box_dims=rotate_point(box_morada_dim, theta))"
   ]
  },
  {
   "cell_type": "code",
   "execution_count": null,
   "id": "5630ddd3",
   "metadata": {},
   "outputs": [
    {
     "name": "stderr",
     "output_type": "stream",
     "text": [
      "tried 11 times to find a packet in data, advertised packet size: -2, type: 3\n",
      "Data length: 68\n",
      "tried 11 times to find a packet in data, advertised packet size: -2, type: 3\n",
      "Data length: 1092\n",
      "tried 11 times to find a packet in data, advertised packet size: -2, type: 3\n",
      "Data length: 1420\n"
     ]
    },
    {
     "name": "stdout",
     "output_type": "stream",
     "text": [
      "Estoy en execute_instruction <Toolkit.ROBOT object at 0x0000029CC704C5F0>\n",
      "Respuesta raw: b'\\x00\\x00\\x007\\x14\\xff\\xff\\xff\\xff\\xff\\xff\\xff\\xff\\xfe\\x03\\tURControl\\x03\\x0f\\x00\\x00\\x00\\x08\\x00\\x00\\x00\\x0014-06-2022, 08:49:38\\x00\\x00\\x00\\x18\\x14\\xff\\xff\\xff\\xff\\xff\\xff\\xff\\xff\\xfe\\x0c\\x00\\x00\\x01\\xf8\\x00\\x00\\x01\\x00\\x01'\n",
      "\n",
      "\n",
      "        movel(p[0.43350158457912136, -0.12039463775576553, 0.178, 0, -3.142, 0], a=1.0, v=0.5)\n",
      "        \n",
      "\n",
      "Estoy en execute_instruction <Toolkit.ROBOT object at 0x0000029CC704C5F0>\n",
      "Respuesta raw: b'\\x00\\x00\\x007\\x14\\xff\\xff\\xff\\xff\\xff\\xff\\xff\\xff\\xfe\\x03\\tURControl\\x03\\x0f\\x00\\x00\\x00\\x08\\x00\\x00\\x00\\x0014-06-2022, 08:49:38\\x00\\x00\\x00\\x18\\x14\\xff\\xff\\xff\\xff\\xff\\xff\\xff\\xff\\xfe\\x0c\\x00\\x00\\x01\\xf8\\x00\\x00\\x01\\x00\\x01'\n"
     ]
    },
    {
     "name": "stderr",
     "output_type": "stream",
     "text": [
      "tried 11 times to find a packet in data, advertised packet size: -2, type: 3\n",
      "Data length: 68\n",
      "tried 11 times to find a packet in data, advertised packet size: -2, type: 3\n",
      "Data length: 1092\n",
      "tried 11 times to find a packet in data, advertised packet size: -2, type: 3\n",
      "Data length: 1420\n"
     ]
    },
    {
     "name": "stdout",
     "output_type": "stream",
     "text": [
      "Tool outputs 0 y 1 encendidos\n",
      "Estoy en execute_instruction <Toolkit.ROBOT object at 0x0000029CC704C5F0>\n",
      "Respuesta raw: b'\\x00\\x00\\x007\\x14\\xff\\xff\\xff\\xff\\xff\\xff\\xff\\xff\\xfe\\x03\\tURControl\\x03\\x0f\\x00\\x00\\x00\\x08\\x00\\x00\\x00\\x0014-06-2022, 08:49:38\\x00\\x00\\x00\\x18\\x14\\xff\\xff\\xff\\xff\\xff\\xff\\xff\\xff\\xfe\\x0c\\x00\\x00\\x01\\xf8\\x00\\x00\\x01\\x00\\x01'\n"
     ]
    }
   ],
   "source": [
    "import numpy as np\n",
    "import Toolkit\n",
    "manipulation_point = [-0.277, -0.335, 0.250, 1.450, -2.2786, -0.028]\n",
    "manipulation_pose = [-68, -123, -28, -118, 90, 359]\n",
    "\n",
    "\n",
    "point_A=[0.43874, -0.18027, 0.048, 0,-3.142, 0]\n",
    "pose_A=[-8.67, -150.98, -69.53, -49.47, 90.24, 81.30]\n",
    "\n",
    "\n",
    "theta=np.deg2rad(-40)\n",
    "box_amarilla_dim=[0.085, 0.085, 0.13]\n",
    "box_morada_dim=[ 0.085, 0.167,0.044]\n",
    "\n",
    "\n",
    "robot = Toolkit.ROBOT(robot_ip=\"157.253.231.86\")\n",
    "manipulation = Toolkit.MANIPULATION()\n",
    "\n",
    "manipulation.pick_box(robot=robot, manipulationpose=manipulation_pose,punto_pick_A=point_A, box_dims=box_morada_dim, rotation=theta)"
   ]
  },
  {
   "cell_type": "code",
   "execution_count": null,
   "id": "eb344265",
   "metadata": {},
   "outputs": [],
   "source": []
  },
  {
   "cell_type": "code",
   "execution_count": 3,
   "id": "4a6afe94",
   "metadata": {},
   "outputs": [
    {
     "name": "stderr",
     "output_type": "stream",
     "text": [
      "tried 11 times to find a packet in data, advertised packet size: -2, type: 3\n",
      "Data length: 68\n",
      "tried 11 times to find a packet in data, advertised packet size: -2, type: 3\n",
      "Data length: 1092\n",
      "tried 11 times to find a packet in data, advertised packet size: -2, type: 3\n",
      "Data length: 1420\n"
     ]
    },
    {
     "name": "stdout",
     "output_type": "stream",
     "text": [
      "Estoy en execute_instruction <Toolkit.ROBOT object at 0x0000029CC73FC110>\n",
      "Respuesta raw: b'\\x00\\x00\\x007\\x14\\xff\\xff\\xff\\xff\\xff\\xff\\xff\\xff\\xfe\\x03\\tURControl\\x03\\x0f\\x00\\x00\\x00\\x08\\x00\\x00\\x00\\x0014-06-2022, 08:49:38\\x00\\x00\\x00\\x18\\x14\\xff\\xff\\xff\\xff\\xff\\xff\\xff\\xff\\xfe\\x0c\\x00\\x00\\x01\\xf8\\x00\\x00\\x01\\x00\\x01'\n"
     ]
    }
   ],
   "source": [
    "manipulation_point = [-0.277, -0.335, 0.250, 1.450, -2.2786, -0.028]\n",
    "manipulation_pose = [-68, -123, -28, -118, 90, 359]\n",
    "robot = Toolkit.ROBOT(robot_ip=\"157.253.231.86\")\n",
    "manipulation = Toolkit.MANIPULATION()\n",
    "\n",
    "manipulation.go_to_pose(robot=robot, pose=manipulation_pose)"
   ]
  },
  {
   "cell_type": "markdown",
   "id": "e65dd76c",
   "metadata": {},
   "source": [
    "turn off:"
   ]
  },
  {
   "cell_type": "code",
   "execution_count": 7,
   "id": "7082f497",
   "metadata": {},
   "outputs": [
    {
     "name": "stderr",
     "output_type": "stream",
     "text": [
      "tried 11 times to find a packet in data, advertised packet size: -2, type: 3\n",
      "Data length: 68\n",
      "tried 11 times to find a packet in data, advertised packet size: -2, type: 3\n",
      "Data length: 1092\n",
      "tried 11 times to find a packet in data, advertised packet size: -2, type: 3\n",
      "Data length: 1420\n"
     ]
    },
    {
     "name": "stdout",
     "output_type": "stream",
     "text": [
      "Tool outputs 0 y 1 encendidos\n"
     ]
    }
   ],
   "source": [
    "manipulation.turn_off_VG_urx(robot=robot)"
   ]
  },
  {
   "cell_type": "code",
   "execution_count": null,
   "id": "73c29593",
   "metadata": {},
   "outputs": [],
   "source": [
    "## Go to reference point\n",
    "# manipulation.move_linear(robot=robot, goal_point=base_reference_point)\n",
    "# time.sleep(3)\n",
    "manipulation.go_to_pose(robot=robot, pose=manipulation_pose)\n",
    "time.sleep(15)\n",
    "manipulation.move_linear(robot=robot, goal_point=Box1_Release_point)\n"
   ]
  },
  {
   "cell_type": "code",
   "execution_count": null,
   "id": "82c3b10b",
   "metadata": {},
   "outputs": [],
   "source": [
    "import urx\n",
    "\n",
    "# IP del robot (o simulador URSim)\n",
    "rob = urx.Robot(robot.robot_ip)  \n",
    "\n",
    "joints = rob.getj()  \n",
    "print(\"Posición articular (rad):\", joints)\n",
    "\n",
    "pose = rob.get_pose()\n",
    "print(\"Pose de la herramienta:\\n\", pose)\n"
   ]
  },
  {
   "cell_type": "code",
   "execution_count": null,
   "id": "64599ab4",
   "metadata": {},
   "outputs": [],
   "source": [
    "manipulation_pose = [-103, -123, -28, -118, 90, 359]\n",
    "manipulation.go_to_pose(robot=robot, pose=manipulation_pose)\n"
   ]
  },
  {
   "cell_type": "markdown",
   "id": "4b6fd139",
   "metadata": {},
   "source": [
    "## Packing Execution"
   ]
  },
  {
   "cell_type": "code",
   "execution_count": null,
   "id": "efa1a0c2",
   "metadata": {},
   "outputs": [],
   "source": [
    "Box_1_pack_point = [-40, -479, -40, 0.54, 3.094, -0.00]\n",
    "Box_1_dimentions_grip = [0.083, 0.05, 0.0041]\n",
    "\n",
    "pack_point = [-0.201, -0.369, 380, 0.332, 3.131, -0.026]\n",
    "\n",
    "\n",
    "test_point = [base_reference_point[0]-Box_1_dimentions_grip[0],\n",
    "              base_reference_point[1]-Box_1_dimentions_grip[1],\n",
    "              base_reference_point[2]+Box_1_dimentions_grip[2]+0.12,\n",
    "              base_reference_point[3],\n",
    "              base_reference_point[4],  \n",
    "            base_reference_point[5]]\n",
    "\n",
    "# manipulation.move_linear(robot=robot, goal_point=Box_1_pack_point)\n",
    "manipulation.move_linear(robot=robot, goal_point=test_point)"
   ]
  },
  {
   "cell_type": "markdown",
   "id": "c96cb842",
   "metadata": {},
   "source": [
    "# Test new pose"
   ]
  },
  {
   "cell_type": "code",
   "execution_count": null,
   "id": "77e1d14b",
   "metadata": {},
   "outputs": [],
   "source": [
    "import urx\n",
    "\n",
    "robot = Toolkit.ROBOT(robot_ip=\"157.253.231.86\")\n",
    "\n",
    "rob = urx.Robot(robot.robot_ip)            \n",
    "print(rob.getl())\n",
    "\n",
    "retorno = robot.get_current_pose()\n",
    "print(retorno)"
   ]
  },
  {
   "cell_type": "code",
   "execution_count": null,
   "id": "015a06e7",
   "metadata": {},
   "outputs": [],
   "source": [
    "robot = Toolkit.ROBOT(\"157.253.231.86\")\n",
    "pose = robot.get_current_pose()\n",
    "\n",
    "print(\"Posición (m):\", pose[\"position_m\"])\n",
    "print(\"Orientación (Euler rad):\", pose[\"euler_xyz_rad\"])\n",
    "print(\"Cuaternión:\", pose[\"quaternion_xyzw\"])\n"
   ]
  }
 ],
 "metadata": {
  "kernelspec": {
   "display_name": "Python 3",
   "language": "python",
   "name": "python3"
  },
  "language_info": {
   "codemirror_mode": {
    "name": "ipython",
    "version": 3
   },
   "file_extension": ".py",
   "mimetype": "text/x-python",
   "name": "python",
   "nbconvert_exporter": "python",
   "pygments_lexer": "ipython3",
   "version": "3.12.0"
  }
 },
 "nbformat": 4,
 "nbformat_minor": 5
}
