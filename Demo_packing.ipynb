{
 "cells": [
  {
   "cell_type": "markdown",
   "id": "a87652e9",
   "metadata": {},
   "source": [
    "# Main Text"
   ]
  },
  {
   "cell_type": "markdown",
   "id": "98c4c7d9",
   "metadata": {},
   "source": [
    "## Operation Methodology\n",
    "### 1. Box Preparation:\n",
    "\n",
    "Arrange the boxes in the designated \"pick place\" area in the specific numerical order shown on one of their faces.\n",
    "\n",
    "### 2. Robot Handling:\n",
    "\n",
    "The UR robot will move each box, one at a time, to the \"packing place\" area.\n",
    "\n",
    "### 3. Box Orientation:\n",
    "It is critical that you ensure each box is placed in the correct orientation in the pick place before the robot moves it. This is essential for the robot to pack them correctly.\n",
    "\n"
   ]
  },
  {
   "cell_type": "code",
   "execution_count": null,
   "id": "0ee7951f",
   "metadata": {},
   "outputs": [
    {
     "ename": "ModuleNotFoundError",
     "evalue": "No module named 'urx'",
     "output_type": "error",
     "traceback": [
      "\u001b[1;31m---------------------------------------------------------------------------\u001b[0m",
      "\u001b[1;31mModuleNotFoundError\u001b[0m                       Traceback (most recent call last)",
      "Cell \u001b[1;32mIn[1], line 1\u001b[0m\n\u001b[1;32m----> 1\u001b[0m \u001b[38;5;28;01mimport\u001b[39;00m \u001b[38;5;21;01mToolkit\u001b[39;00m\n\u001b[0;32m      2\u001b[0m \u001b[38;5;28;01mimport\u001b[39;00m \u001b[38;5;21;01mtime\u001b[39;00m\n\u001b[0;32m      3\u001b[0m reference_point \u001b[38;5;241m=\u001b[39m [\u001b[38;5;241m-\u001b[39m\u001b[38;5;241m0.278\u001b[39m, \u001b[38;5;241m-\u001b[39m\u001b[38;5;241m0.336\u001b[39m, \u001b[38;5;241m-\u001b[39m\u001b[38;5;241m0.438\u001b[39m, \u001b[38;5;241m1.450\u001b[39m, \u001b[38;5;241m2.78\u001b[39m, \u001b[38;5;241m-\u001b[39m\u001b[38;5;241m0.027\u001b[39m]\n",
      "File \u001b[1;32mc:\\Users\\Lenovo\\Documents\\GitHub\\UR_ROBOTS\\Toolkit.py:2\u001b[0m\n\u001b[0;32m      1\u001b[0m \u001b[38;5;28;01mimport\u001b[39;00m \u001b[38;5;21;01msocket\u001b[39;00m\n\u001b[1;32m----> 2\u001b[0m \u001b[38;5;28;01mimport\u001b[39;00m \u001b[38;5;21;01murx\u001b[39;00m\n\u001b[0;32m      3\u001b[0m \u001b[38;5;28;01mimport\u001b[39;00m \u001b[38;5;21;01mtime\u001b[39;00m\n\u001b[0;32m      4\u001b[0m \u001b[38;5;28;01mimport\u001b[39;00m \u001b[38;5;21;01mnumpy\u001b[39;00m \u001b[38;5;28;01mas\u001b[39;00m \u001b[38;5;21;01mnp\u001b[39;00m\n",
      "\u001b[1;31mModuleNotFoundError\u001b[0m: No module named 'urx'"
     ]
    }
   ],
   "source": [
    "import Toolkit\n",
    "import time\n",
    "base_reference_point = [-0.278, -0.334, -0.037, 1.450, -2.786, -0.027]\n",
    "base_origin_packing_point = [-0.040, -0.479, 0.3, 0.54, 3.094, -0.00]\n",
    "manipulation_pose = [-103, -123, -28, -118, 90, 359]\n",
    "robot = Toolkit.ROBOT(robot_ip=\"157.253.231.86\")\n",
    "manipulation = Toolkit.MANIPULATION()\n",
    "\n",
    "def repeat_packing_movement(Box_dimension_grip, pack_point, grip_point, release_point):\n",
    "    robot = Toolkit.ROBOT(robot_ip=\"157.253.231.86\")\n",
    "    manipulation = Toolkit.MANIPULATION()\n",
    "    manipulation.go_to_pose(robot=robot, pose=manipulation_pose)\n",
    "    time.sleep(3)\n",
    "    first_movement = [base_reference_point[0]-Box_dimension_grip[0],\n",
    "              base_reference_point[1]-Box_dimension_grip[1],\n",
    "              base_reference_point[2]+Box_dimension_grip[2]+0.12,\n",
    "              base_reference_point[3],\n",
    "              base_reference_point[4],  \n",
    "            base_reference_point[5]]\n",
    "    manipulation.move_linear(robot=robot, goal_point=first_movement)\n",
    "    time.sleep(4)\n",
    "    manipulation.move_linear(robot=robot, goal_point=grip_point)\n",
    "    time.sleep(4)\n",
    "    manipulation.turn_on_VG_urx(robot=robot)\n",
    "    time.sleep(2)\n",
    "    manipulation.move_linear(robot=robot, goal_point=pack_point)\n",
    "    manipulation.move_linear(robot=robot, goal_point=release_point)\n",
    "    time.sleep(4)\n",
    "    manipulation.turn_off_VG_urx(robot=robot)\n",
    "    time.sleep(2)\n",
    "    return"
   ]
  },
  {
   "cell_type": "code",
   "execution_count": 116,
   "id": "73c29593",
   "metadata": {},
   "outputs": [
    {
     "name": "stdout",
     "output_type": "stream",
     "text": [
      "\n",
      "\n",
      "        movel(p[-0.04, -0.479, -0.04, 0.54, 3.094, -0.0], a=1.0, v=0.5)\n",
      "        \n",
      "\n",
      "Estoy en execute_instruction <Toolkit.ROBOT object at 0x000001CB29CF89D0>\n",
      "Respuesta raw: b'\\x00\\x00\\x007\\x14\\xff\\xff\\xff\\xff\\xff\\xff\\xff\\xff\\xfe\\x03\\tURControl\\x03\\x0f\\x00\\x00\\x00\\x08\\x00\\x00\\x00\\x0014-06-2022, 08:49:38'\n"
     ]
    }
   ],
   "source": [
    "## Go to reference point\n",
    "manipulation.move_linear(robot=robot, goal_point=base_origin_packing_point)"
   ]
  },
  {
   "cell_type": "code",
   "execution_count": 109,
   "id": "5f9a031b",
   "metadata": {},
   "outputs": [
    {
     "name": "stdout",
     "output_type": "stream",
     "text": [
      "Estoy en execute_instruction <Toolkit.ROBOT object at 0x000001CB29CF89D0>\n",
      "Respuesta raw: b'\\x00\\x00\\x007\\x14\\xff\\xff\\xff\\xff\\xff\\xff\\xff\\xff\\xfe\\x03\\tURControl\\x03\\x0f\\x00\\x00\\x00\\x08\\x00\\x00\\x00\\x0014-06-2022, 08:49:38\\x00\\x00\\x00\\x18\\x14\\xff\\xff\\xff\\xff\\xff\\xff\\xff\\xff\\xfe\\x0c\\x00\\x00\\x01\\xf8\\x00\\x00\\x01\\x00\\x01'\n"
     ]
    }
   ],
   "source": [
    "tool_origin_pose = [-114.59, -161.01, -79.07, -29.22, 89.97, 0.57]\n",
    "manipulation.go_to_pose(robot=robot, pose=tool_origin_pose)"
   ]
  },
  {
   "cell_type": "code",
   "execution_count": 37,
   "id": "82c3b10b",
   "metadata": {},
   "outputs": [
    {
     "name": "stderr",
     "output_type": "stream",
     "text": [
      "tried 11 times to find a packet in data, advertised packet size: -2, type: 3\n",
      "Data length: 68\n",
      "tried 11 times to find a packet in data, advertised packet size: -2, type: 3\n",
      "Data length: 1092\n",
      "tried 11 times to find a packet in data, advertised packet size: -2, type: 3\n",
      "Data length: 1420\n"
     ]
    },
    {
     "name": "stdout",
     "output_type": "stream",
     "text": [
      "Posición articular (rad): [-2.0023067633258265, -2.816852394734518, -1.382099453602926, -0.5129135290728968, 1.5732827186584473, 0.009858149103820324]\n",
      "Pose de la herramienta:\n",
      " <Transform: RV(-0.680, -3.067, 0.000) P(-0.278, -0.336, -0.038)>\n"
     ]
    }
   ],
   "source": [
    "import urx\n",
    "\n",
    "# IP del robot (o simulador URSim)\n",
    "rob = urx.Robot(robot.robot_ip)  \n",
    "\n",
    "joints = rob.getj()  \n",
    "print(\"Posición articular (rad):\", joints)\n",
    "\n",
    "pose = rob.get_pose()\n",
    "print(\"Pose de la herramienta:\\n\", pose)\n"
   ]
  },
  {
   "cell_type": "code",
   "execution_count": 113,
   "id": "64599ab4",
   "metadata": {},
   "outputs": [
    {
     "name": "stdout",
     "output_type": "stream",
     "text": [
      "Estoy en execute_instruction <Toolkit.ROBOT object at 0x000001CB29CF89D0>\n",
      "Respuesta raw: b'\\x00\\x00\\x007\\x14\\xff\\xff\\xff\\xff\\xff\\xff\\xff\\xff\\xfe\\x03\\tURControl\\x03\\x0f\\x00\\x00\\x00\\x08\\x00\\x00\\x00\\x0014-06-2022, 08:49:38'\n"
     ]
    }
   ],
   "source": [
    "manipulation_pose = [-103, -123, -28, -118, 90, 359]\n",
    "manipulation.go_to_pose(robot=robot, pose=manipulation_pose)"
   ]
  },
  {
   "cell_type": "markdown",
   "id": "4b6fd139",
   "metadata": {},
   "source": [
    "## Packing Execution"
   ]
  },
  {
   "cell_type": "code",
   "execution_count": null,
   "id": "efa1a0c2",
   "metadata": {},
   "outputs": [
    {
     "name": "stdout",
     "output_type": "stream",
     "text": [
      "\n",
      "\n",
      "        movel(p[-40, -479, -40, 0.54, 3.094, -0.0], a=1.0, v=0.5)\n",
      "        \n",
      "\n",
      "Estoy en execute_instruction <Toolkit.ROBOT object at 0x000001CB29CF89D0>\n",
      "Respuesta raw: b'\\x00\\x00\\x007\\x14\\xff\\xff\\xff\\xff\\xff\\xff\\xff\\xff\\xfe\\x03\\tURControl\\x03\\x0f\\x00\\x00\\x00\\x08\\x00\\x00\\x00\\x0014-06-2022, 08:49:38'\n"
     ]
    }
   ],
   "source": [
    "Box_1_pack_point = [-40, -479, -40, 0.54, 3.094, -0.00]\n",
    "Box_1_dimentions_grip = [0.083, 0.05, 0.0041]\n",
    "\n",
    "pack_point = [-0.201, -0.369, 380, 0.332, 3.131, -0.026]\n",
    "\n",
    "\n",
    "test_point = [base_reference_point[0]-Box_1_dimentions_grip[0],\n",
    "              base_reference_point[1]-Box_1_dimentions_grip[1],\n",
    "              base_reference_point[2]+Box_1_dimentions_grip[2]+0.12,\n",
    "              base_reference_point[3],\n",
    "              base_reference_point[4],  \n",
    "            base_reference_point[5]]\n",
    "manipulation.move_linear(robot=robot, goal_point=Box_1_pack_point)"
   ]
  }
 ],
 "metadata": {
  "kernelspec": {
   "display_name": "Python 3",
   "language": "python",
   "name": "python3"
  },
  "language_info": {
   "codemirror_mode": {
    "name": "ipython",
    "version": 3
   },
   "file_extension": ".py",
   "mimetype": "text/x-python",
   "name": "python",
   "nbconvert_exporter": "python",
   "pygments_lexer": "ipython3",
   "version": "3.11.9"
  }
 },
 "nbformat": 4,
 "nbformat_minor": 5
}
