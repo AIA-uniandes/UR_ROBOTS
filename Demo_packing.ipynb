{
 "cells": [
  {
   "cell_type": "markdown",
   "id": "a87652e9",
   "metadata": {},
   "source": [
    "# Main Text"
   ]
  },
  {
   "cell_type": "markdown",
   "id": "98c4c7d9",
   "metadata": {},
   "source": [
    "## Operation Methodology\n",
    "### 1. Box Preparation:\n",
    "\n",
    "Arrange the boxes in the designated \"pick place\" area in the specific numerical order shown on one of their faces.\n",
    "\n",
    "### 2. Robot Handling:\n",
    "\n",
    "The UR robot will move each box, one at a time, to the \"packing place\" area.\n",
    "\n",
    "### 3. Box Orientation:\n",
    "It is critical that you ensure each box is placed in the correct orientation in the pick place before the robot moves it. This is essential for the robot to pack them correctly.\n",
    "\n"
   ]
  },
  {
   "cell_type": "code",
   "execution_count": 3,
   "id": "0ee7951f",
   "metadata": {},
   "outputs": [
    {
     "name": "stderr",
     "output_type": "stream",
     "text": [
      "tried 11 times to find a packet in data, advertised packet size: -2, type: 3\n",
      "Data length: 1013\n",
      "tried 11 times to find a packet in data, advertised packet size: -2, type: 3\n",
      "Data length: 1420\n"
     ]
    }
   ],
   "source": [
    "import Toolkit\n",
    "import time\n",
    "base_reference_point = [-0.278, -0.334, -0.037, 1.450, -2.786, -0.027]\n",
    "base_origin_packing_point = [-0.206, -0.300, 0.037, 1.45, -2.786, -0.027]\n",
    "base_real_origin_packing_point = [0.136, -0.309, -0.037, 1.45, -2.786, -0.027]\n",
    "grip_point = [-0.201, -0.370, 0.380, 0.332, 3.131, -0.026]\n",
    "release_point = [-0.040, -0.479, 0.3, 1.450, -2.786, -0.027]\n",
    "pack_point = [0.124, -0.293, 0.380, 1.450, -2.2786, -0.028]\n",
    "\n",
    "\n",
    "manipulation_point = [-0.277, -0.335, 0.250, 1.450, -2.2786, -0.028]\n",
    "manipulation_pose = [-103, -123, -28, -118, 90, 359]\n",
    "robot = Toolkit.ROBOT(robot_ip=\"157.253.231.86\")\n",
    "manipulation = Toolkit.MANIPULATION()\n",
    "\n",
    "# BOXES DIMENSIONS\n",
    "Box_1_dimentions_grip = [0.083, 0.05, 0.0041]\n",
    "\n",
    "# Release point for the box\n",
    "Box1_Release_point = [0.113, -0.466, 0.095, 2.27, 1.43, -0.0]\n",
    "\n",
    "\n",
    "def repeat_packing_movement(Box_dimension_grip, manipulation_point, base_reference_point, pack_point,  release_point):\n",
    "    robot = Toolkit.ROBOT(robot_ip=\"157.253.231.86\")\n",
    "    manipulation = Toolkit.MANIPULATION()\n",
    "    manipulation.go_to_pose(robot=robot, pose=manipulation_pose)\n",
    "    time.sleep(17)\n",
    "    grip_point = [base_reference_point[0]-Box_dimension_grip[0],\n",
    "              base_reference_point[1]-Box_dimension_grip[1],\n",
    "              base_reference_point[2]+Box_dimension_grip[2]+0.12,\n",
    "              base_reference_point[3],\n",
    "              base_reference_point[4],  \n",
    "            base_reference_point[5]]\n",
    "\n",
    "    manipulation.move_linear(robot=robot, goal_point=grip_point)\n",
    "    time.sleep(4)\n",
    "    manipulation.turn_on_VG_urx(robot=robot)\n",
    "    time.sleep(2)\n",
    "    manipulation.go_to_pose(robot=robot, pose=[-117, -129, -30, -109, 90, 278])\n",
    "    time.sleep(3)\n",
    "    manipulation.go_to_pose(robot=robot, pose=[-60.62, -92, -83, -95, 90, 334])\n",
    "    time.sleep(4)\n",
    "\n",
    "    release_point\n",
    "\n",
    "    manipulation.move_linear(robot=robot, goal_point=release_point)\n",
    "    time.sleep(4)\n",
    "    manipulation.turn_off_VG_urx(robot=robot)\n",
    "    time.sleep(2)\n",
    "    return\n",
    "\n",
    "# repeat_packing_movement(Box_dimension_grip=Box_1_dimentions_grip, manipulation_point=manipulation_point, base_reference_point=base_reference_point, pack_point=pack_point, release_point=Box1_Release_point)\n",
    "# manipulation.move_linear(robot=robot, pose=manipulation_pose)"
   ]
  },
  {
   "cell_type": "code",
   "execution_count": 6,
   "id": "73c29593",
   "metadata": {},
   "outputs": [
    {
     "name": "stdout",
     "output_type": "stream",
     "text": [
      "Estoy en execute_instruction <Toolkit.ROBOT object at 0x0000021A392C3770>\n",
      "Respuesta raw: b'\\x00\\x00\\x007\\x14\\xff\\xff\\xff\\xff\\xff\\xff\\xff\\xff\\xfe\\x03\\tURControl\\x03\\x0f\\x00\\x00\\x00\\x08\\x00\\x00\\x00\\x0014-06-2022, 08:49:38\\x00\\x00\\x00\\x18\\x14\\xff\\xff\\xff\\xff\\xff\\xff\\xff\\xff\\xfe\\x0c\\x00\\x00\\x01\\xf8\\x00\\x00\\x01\\x00\\x01'\n",
      "\n",
      "\n",
      "        movel(p[0.113, -0.466, 0.095, 2.27, 1.43, -0.0], a=1.0, v=0.5)\n",
      "        \n",
      "\n",
      "Estoy en execute_instruction <Toolkit.ROBOT object at 0x0000021A392C3770>\n",
      "Respuesta raw: b'\\x00\\x00\\x007\\x14\\xff\\xff\\xff\\xff\\xff\\xff\\xff\\xff\\xfe\\x03\\tURControl\\x03\\x0f\\x00\\x00\\x00\\x08\\x00\\x00\\x00\\x0014-06-2022, 08:49:38\\x00\\x00\\x00\\x18\\x14\\xff\\xff\\xff\\xff\\xff\\xff\\xff\\xff\\xfe\\x0c\\x00\\x00\\x01\\xf8\\x00\\x00\\x01\\x00\\x01'\n"
     ]
    }
   ],
   "source": [
    "## Go to reference point\n",
    "# manipulation.move_linear(robot=robot, goal_point=base_reference_point)\n",
    "# time.sleep(3)\n",
    "manipulation.go_to_pose(robot=robot, pose=manipulation_pose)\n",
    "time.sleep(15)\n",
    "manipulation.move_linear(robot=robot, goal_point=Box1_Release_point)\n"
   ]
  },
  {
   "cell_type": "code",
   "execution_count": 7,
   "id": "82c3b10b",
   "metadata": {},
   "outputs": [
    {
     "name": "stderr",
     "output_type": "stream",
     "text": [
      "tried 11 times to find a packet in data, advertised packet size: -2, type: 3\n",
      "Data length: 68\n",
      "tried 11 times to find a packet in data, advertised packet size: -2, type: 3\n",
      "Data length: 1092\n",
      "tried 11 times to find a packet in data, advertised packet size: -2, type: 3\n",
      "Data length: 1420\n"
     ]
    },
    {
     "name": "stdout",
     "output_type": "stream",
     "text": [
      "Posición articular (rad): [-1.1047957579242151, -2.5715225378619593, -1.3689759413348597, -0.3145206610309046, 1.6149590015411377, 8.78189188638796]\n",
      "Pose de la herramienta:\n",
      " <Transform: RV(2.270, 1.430, -0.000) P(0.113, -0.466, 0.095)>\n"
     ]
    }
   ],
   "source": [
    "import urx\n",
    "\n",
    "# IP del robot (o simulador URSim)\n",
    "rob = urx.Robot(robot.robot_ip)  \n",
    "\n",
    "joints = rob.getj()  \n",
    "print(\"Posición articular (rad):\", joints)\n",
    "\n",
    "pose = rob.get_pose()\n",
    "print(\"Pose de la herramienta:\\n\", pose)\n"
   ]
  },
  {
   "cell_type": "code",
   "execution_count": 5,
   "id": "64599ab4",
   "metadata": {},
   "outputs": [
    {
     "name": "stdout",
     "output_type": "stream",
     "text": [
      "Estoy en execute_instruction <Toolkit.ROBOT object at 0x0000021A392C3770>\n",
      "Respuesta raw: b'\\x00\\x00\\x007\\x14\\xff\\xff\\xff\\xff\\xff\\xff\\xff\\xff\\xfe\\x03\\tURControl\\x03\\x0f\\x00\\x00\\x00\\x08\\x00\\x00\\x00\\x0014-06-2022, 08:49:38\\x00\\x00\\x00\\x18\\x14\\xff\\xff\\xff\\xff\\xff\\xff\\xff\\xff\\xfe\\x0c\\x00\\x00\\x01\\xf8\\x00\\x00\\x01\\x00\\x01'\n"
     ]
    }
   ],
   "source": [
    "manipulation_pose = [-103, -123, -28, -118, 90, 359]\n",
    "manipulation.go_to_pose(robot=robot, pose=manipulation_pose)"
   ]
  },
  {
   "cell_type": "markdown",
   "id": "4b6fd139",
   "metadata": {},
   "source": [
    "## Packing Execution"
   ]
  },
  {
   "cell_type": "code",
   "execution_count": null,
   "id": "efa1a0c2",
   "metadata": {},
   "outputs": [],
   "source": [
    "Box_1_pack_point = [-40, -479, -40, 0.54, 3.094, -0.00]\n",
    "Box_1_dimentions_grip = [0.083, 0.05, 0.0041]\n",
    "\n",
    "pack_point = [-0.201, -0.369, 380, 0.332, 3.131, -0.026]\n",
    "\n",
    "\n",
    "test_point = [base_reference_point[0]-Box_1_dimentions_grip[0],\n",
    "              base_reference_point[1]-Box_1_dimentions_grip[1],\n",
    "              base_reference_point[2]+Box_1_dimentions_grip[2]+0.12,\n",
    "              base_reference_point[3],\n",
    "              base_reference_point[4],  \n",
    "            base_reference_point[5]]\n",
    "\n",
    "# manipulation.move_linear(robot=robot, goal_point=Box_1_pack_point)\n",
    "manipulation.move_linear(robot=robot, goal_point=test_point)"
   ]
  },
  {
   "cell_type": "markdown",
   "id": "c96cb842",
   "metadata": {},
   "source": [
    "# Test new pose"
   ]
  },
  {
   "cell_type": "code",
   "execution_count": 13,
   "id": "77e1d14b",
   "metadata": {},
   "outputs": [
    {
     "name": "stderr",
     "output_type": "stream",
     "text": [
      "tried 11 times to find a packet in data, advertised packet size: -2, type: 3\n",
      "Data length: 1013\n",
      "tried 11 times to find a packet in data, advertised packet size: -2, type: 3\n",
      "Data length: 1420\n",
      "Exception in thread Exception in thread Thread-13:\n",
      "Exception in thread Thread-16:\n",
      "Thread-14:\n",
      "Traceback (most recent call last):\n",
      "  File \u001b[35m\"c:\\Program Files\\Python313\\Lib\\threading.py\"\u001b[0m, line \u001b[35m1041\u001b[0m, in \u001b[35m_bootstrap_inner\u001b[0m\n",
      "    \u001b[31mself.run\u001b[0m\u001b[1;31m()\u001b[0m\n",
      "    \u001b[31m~~~~~~~~\u001b[0m\u001b[1;31m^^\u001b[0m\n",
      "  File \u001b[35m\"C:\\Users\\c.torresu\\AppData\\Roaming\\Python\\Python313\\site-packages\\urx\\ursecmon.py\"\u001b[0m, line \u001b[35m286\u001b[0m, in \u001b[35mrun\u001b[0m\n",
      "    data = self._get_data()\n",
      "  File \u001b[35m\"C:\\Users\\c.torresu\\AppData\\Roaming\\Python\\Python313\\site-packages\\urx\\ursecmon.py\"\u001b[0m, line \u001b[35m333\u001b[0m, in \u001b[35m_get_data\u001b[0m\n",
      "    tmp = self._s_secondary.recv(1024)\n",
      "\u001b[1;35mTimeoutError\u001b[0m: \u001b[35mtimed out\u001b[0m\n",
      "Traceback (most recent call last):\n",
      "Traceback (most recent call last):\n",
      "  File \u001b[35m\"c:\\Program Files\\Python313\\Lib\\threading.py\"\u001b[0m, line \u001b[35m1041\u001b[0m, in \u001b[35m_bootstrap_inner\u001b[0m\n",
      "    \u001b[31mself.run\u001b[0m\u001b[1;31m()\u001b[0m\n",
      "    \u001b[31m~~~~~~~~\u001b[0m\u001b[1;31m^^\u001b[0m\n",
      "  File \u001b[35m\"C:\\Users\\c.torresu\\AppData\\Roaming\\Python\\Python313\\site-packages\\urx\\ursecmon.py\"\u001b[0m, line \u001b[35m286\u001b[0m, in \u001b[35mrun\u001b[0m\n",
      "    data = self._get_data()\n",
      "  File \u001b[35m\"C:\\Users\\c.torresu\\AppData\\Roaming\\Python\\Python313\\site-packages\\urx\\ursecmon.py\"\u001b[0m, line \u001b[35m333\u001b[0m, in \u001b[35m_get_data\u001b[0m\n",
      "    tmp = self._s_secondary.recv(1024)\n",
      "\u001b[1;35mTimeoutError\u001b[0m: \u001b[35mtimed out\u001b[0m\n",
      "  File \u001b[35m\"c:\\Program Files\\Python313\\Lib\\threading.py\"\u001b[0m, line \u001b[35m1041\u001b[0m, in \u001b[35m_bootstrap_inner\u001b[0m\n",
      "    \u001b[31mself.run\u001b[0m\u001b[1;31m()\u001b[0m\n",
      "    \u001b[31m~~~~~~~~\u001b[0m\u001b[1;31m^^\u001b[0m\n",
      "  File \u001b[35m\"C:\\Users\\c.torresu\\AppData\\Roaming\\Python\\Python313\\site-packages\\urx\\ursecmon.py\"\u001b[0m, line \u001b[35m286\u001b[0m, in \u001b[35mrun\u001b[0m\n",
      "    data = self._get_data()\n",
      "  File \u001b[35m\"C:\\Users\\c.torresu\\AppData\\Roaming\\Python\\Python313\\site-packages\\urx\\ursecmon.py\"\u001b[0m, line \u001b[35m333\u001b[0m, in \u001b[35m_get_data\u001b[0m\n",
      "    tmp = self._s_secondary.recv(1024)\n",
      "\u001b[1;35mTimeoutError\u001b[0m: \u001b[35mtimed out\u001b[0m\n"
     ]
    },
    {
     "ename": "TimeoutException",
     "evalue": "Did not receive a valid data packet from robot in 0.5",
     "output_type": "error",
     "traceback": [
      "\u001b[31m---------------------------------------------------------------------------\u001b[39m",
      "\u001b[31mTimeoutException\u001b[39m                          Traceback (most recent call last)",
      "\u001b[36mCell\u001b[39m\u001b[36m \u001b[39m\u001b[32mIn[13]\u001b[39m\u001b[32m, line 1\u001b[39m\n\u001b[32m----> \u001b[39m\u001b[32m1\u001b[39m retorno = \u001b[43mrobot\u001b[49m\u001b[43m.\u001b[49m\u001b[43mget_current_pose\u001b[49m\u001b[43m(\u001b[49m\u001b[43m)\u001b[49m\n\u001b[32m      2\u001b[39m \u001b[38;5;28mprint\u001b[39m(retorno)\n",
      "\u001b[36mFile \u001b[39m\u001b[32mc:\\Users\\c.torresu\\OneDrive - Universidad de los andes\\Documentos\\GitHub\\UR_ROBOTS\\Toolkit.py:77\u001b[39m, in \u001b[36mget_current_pose\u001b[39m\u001b[34m(self)\u001b[39m\n\u001b[32m     76\u001b[39m \u001b[38;5;28;01mdef\u001b[39;00m\u001b[38;5;250m \u001b[39m\u001b[34mclose\u001b[39m(\u001b[38;5;28mself\u001b[39m):\n\u001b[32m---> \u001b[39m\u001b[32m77\u001b[39m     \u001b[38;5;28;01mtry\u001b[39;00m:\n\u001b[32m     78\u001b[39m         \u001b[38;5;28mself\u001b[39m.methods.close()\n\u001b[32m     79\u001b[39m     \u001b[38;5;28;01mexcept\u001b[39;00m \u001b[38;5;167;01mException\u001b[39;00m:\n",
      "\u001b[36mFile \u001b[39m\u001b[32m~\\AppData\\Roaming\\Python\\Python313\\site-packages\\urx\\robot.py:27\u001b[39m, in \u001b[36mRobot.__init__\u001b[39m\u001b[34m(self, host, use_rt)\u001b[39m\n\u001b[32m     26\u001b[39m \u001b[38;5;28;01mdef\u001b[39;00m\u001b[38;5;250m \u001b[39m\u001b[34m__init__\u001b[39m(\u001b[38;5;28mself\u001b[39m, host, use_rt=\u001b[38;5;28;01mFalse\u001b[39;00m):\n\u001b[32m---> \u001b[39m\u001b[32m27\u001b[39m     \u001b[43mURRobot\u001b[49m\u001b[43m.\u001b[49m\u001b[34;43m__init__\u001b[39;49m\u001b[43m(\u001b[49m\u001b[38;5;28;43mself\u001b[39;49m\u001b[43m,\u001b[49m\u001b[43m \u001b[49m\u001b[43mhost\u001b[49m\u001b[43m,\u001b[49m\u001b[43m \u001b[49m\u001b[43muse_rt\u001b[49m\u001b[43m)\u001b[49m\n\u001b[32m     28\u001b[39m     \u001b[38;5;28mself\u001b[39m.csys = m3d.Transform()\n",
      "\u001b[36mFile \u001b[39m\u001b[32m~\\AppData\\Roaming\\Python\\Python313\\site-packages\\urx\\urrobot.py:49\u001b[39m, in \u001b[36mURRobot.__init__\u001b[39m\u001b[34m(self, host, use_rt)\u001b[39m\n\u001b[32m     46\u001b[39m \u001b[38;5;66;03m# It seems URScript is  limited in the character length of floats it accepts\u001b[39;00m\n\u001b[32m     47\u001b[39m \u001b[38;5;28mself\u001b[39m.max_float_length = \u001b[32m6\u001b[39m  \u001b[38;5;66;03m# FIXME: check max length!!!\u001b[39;00m\n\u001b[32m---> \u001b[39m\u001b[32m49\u001b[39m \u001b[38;5;28;43mself\u001b[39;49m\u001b[43m.\u001b[49m\u001b[43msecmon\u001b[49m\u001b[43m.\u001b[49m\u001b[43mwait\u001b[49m\u001b[43m(\u001b[49m\u001b[43m)\u001b[49m\n",
      "\u001b[36mFile \u001b[39m\u001b[32m~\\AppData\\Roaming\\Python\\Python313\\site-packages\\urx\\ursecmon.py:344\u001b[39m, in \u001b[36mSecondaryMonitor.wait\u001b[39m\u001b[34m(self, timeout)\u001b[39m\n\u001b[32m    342\u001b[39m \u001b[38;5;28mself\u001b[39m._dataEvent.wait(timeout)\n\u001b[32m    343\u001b[39m \u001b[38;5;28;01mif\u001b[39;00m tstamp == \u001b[38;5;28mself\u001b[39m.lastpacket_timestamp:\n\u001b[32m--> \u001b[39m\u001b[32m344\u001b[39m     \u001b[38;5;28;01mraise\u001b[39;00m TimeoutException(\u001b[33m\"\u001b[39m\u001b[33mDid not receive a valid data packet from robot in \u001b[39m\u001b[38;5;132;01m{}\u001b[39;00m\u001b[33m\"\u001b[39m.format(timeout))\n",
      "\u001b[31mTimeoutException\u001b[39m: Did not receive a valid data packet from robot in 0.5"
     ]
    }
   ],
   "source": [
    "retorno = robot.get_current_pose()\n",
    "print(retorno)"
   ]
  }
 ],
 "metadata": {
  "kernelspec": {
   "display_name": "Python 3",
   "language": "python",
   "name": "python3"
  },
  "language_info": {
   "codemirror_mode": {
    "name": "ipython",
    "version": 3
   },
   "file_extension": ".py",
   "mimetype": "text/x-python",
   "name": "python",
   "nbconvert_exporter": "python",
   "pygments_lexer": "ipython3",
   "version": "3.13.2"
  }
 },
 "nbformat": 4,
 "nbformat_minor": 5
}
