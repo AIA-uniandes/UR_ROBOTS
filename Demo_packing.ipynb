{
 "cells": [
  {
   "cell_type": "markdown",
   "id": "a87652e9",
   "metadata": {},
   "source": [
    "# Main Text"
   ]
  },
  {
   "cell_type": "markdown",
   "id": "98c4c7d9",
   "metadata": {},
   "source": [
    "## Operation Methodology\n",
    "### 1. Box Preparation:\n",
    "\n",
    "Arrange the boxes in the designated \"pick place\" area in the specific numerical order shown on one of their faces.\n",
    "\n",
    "### 2. Robot Handling:\n",
    "\n",
    "The UR robot will move each box, one at a time, to the \"packing place\" area.\n",
    "\n",
    "### 3. Box Orientation:\n",
    "It is critical that you ensure each box is placed in the correct orientation in the pick place before the robot moves it. This is essential for the robot to pack them correctly.\n",
    "\n"
   ]
  },
  {
   "cell_type": "code",
   "execution_count": null,
   "id": "0ee7951f",
   "metadata": {},
   "outputs": [],
   "source": [
    "import Toolkit\n",
    "import time\n",
    "base_reference_point = [-0.278, -0.334, -0.037, 1.450, -2.786, -0.027]\n",
    "base_origin_packing_point = [-0.206, -0.300, 0.037, 1.45, -2.786, -0.027]\n",
    "base_real_origin_packing_point = [0.136, -0.309, -0.037, 1.45, -2.786, -0.027]\n",
    "grip_point = [-0.201, -0.370, 0.380, 0.332, 3.131, -0.026]\n",
    "release_point = [-0.040, -0.479, 0.3, 0.54, 3.094, -0.00]\n",
    "pack_point = [0.124, -0.293, 0.380, 0.33, 3.131, -0.026]\n",
    "\n",
    "\n",
    "manipulation_point = [-0.201, -0.370, 0.12, 0.332, 3.131, -0.026]\n",
    "manipulation_pose = [-103, -123, -28, -118, 90, 359]\n",
    "robot = Toolkit.ROBOT(robot_ip=\"157.253.231.86\")\n",
    "manipulation = Toolkit.MANIPULATION()\n",
    "\n",
    "# BOXES DIMENSIONS\n",
    "Box_1_dimentions_grip = [-0.205, -0.367, 0.261, 1.450, -2.786, -0.027]\n",
    "\n",
    "\n",
    "def repeat_packing_movement(Box_dimension_grip, manipulation_point, grip_point, pack_point,  release_point):\n",
    "    robot = Toolkit.ROBOT(robot_ip=\"157.253.231.86\")\n",
    "    manipulation = Toolkit.MANIPULATION()\n",
    "    manipulation.go_to_pose(robot=robot, pose=manipulation_pose)\n",
    "    time.sleep(3)\n",
    "    grip_point = [base_reference_point[0]-Box_dimension_grip[0],\n",
    "              base_reference_point[1]-Box_dimension_grip[1],\n",
    "              base_reference_point[2]+Box_dimension_grip[2]+0.12,\n",
    "              base_reference_point[3],\n",
    "              base_reference_point[4],  \n",
    "            base_reference_point[5]]\n",
    "    manipulation.move_linear(robot=robot, goal_point=grip_point)\n",
    "    time.sleep(4)\n",
    "    manipulation.turn_on_VG_urx(robot=robot)\n",
    "    time.sleep(2)\n",
    "    manipulation.move_linear(robot=robot, goal_point=manipulation_point)\n",
    "    time.sleep(3)\n",
    "    manipulation.move_linear(robot=robot, goal_point=pack_point)\n",
    "    time.sleep(4)\n",
    "    \"\"\"manipulation.move_linear(robot=robot, goal_point=release_point)\n",
    "    time.sleep(4)\n",
    "    manipulation.turn_off_VG_urx(robot=robot)\n",
    "    time.sleep(2)\"\"\"\n",
    "    return\n",
    "\n",
    "repeat_packing_movement(Box_dimension_grip=Box_1_dimentions_grip, manipulation_point=manipulation_point, grip_point=grip_point, pack_point=pack_point, release_point=release_point)"
   ]
  },
  {
   "cell_type": "code",
   "execution_count": null,
   "id": "73c29593",
   "metadata": {},
   "outputs": [],
   "source": [
    "## Go to reference point\n",
    "manipulation.move_linear(robot=robot, goal_point=base_origin_packing_point)"
   ]
  },
  {
   "cell_type": "code",
   "execution_count": null,
   "id": "5f9a031b",
   "metadata": {},
   "outputs": [],
   "source": [
    "tool_origin_pose = [-114.59, -161.01, -79.07, -29.22, 89.97, 0.57]\n",
    "manipulation.go_to_pose(robot=robot, pose=tool_origin_pose)"
   ]
  },
  {
   "cell_type": "code",
   "execution_count": null,
   "id": "82c3b10b",
   "metadata": {},
   "outputs": [],
   "source": [
    "import urx\n",
    "\n",
    "# IP del robot (o simulador URSim)\n",
    "rob = urx.Robot(robot.robot_ip)  \n",
    "\n",
    "joints = rob.getj()  \n",
    "print(\"Posición articular (rad):\", joints)\n",
    "\n",
    "pose = rob.get_pose()\n",
    "print(\"Pose de la herramienta:\\n\", pose)\n"
   ]
  },
  {
   "cell_type": "code",
   "execution_count": null,
   "id": "64599ab4",
   "metadata": {},
   "outputs": [],
   "source": [
    "manipulation_pose = [-103, -123, -28, -118, 90, 359]\n",
    "manipulation.go_to_pose(robot=robot, pose=manipulation_pose)\n"
   ]
  },
  {
   "cell_type": "markdown",
   "id": "4b6fd139",
   "metadata": {},
   "source": [
    "## Packing Execution"
   ]
  },
  {
   "cell_type": "code",
   "execution_count": null,
   "id": "efa1a0c2",
   "metadata": {},
   "outputs": [],
   "source": [
    "Box_1_pack_point = [-40, -479, -40, 0.54, 3.094, -0.00]\n",
    "Box_1_dimentions_grip = [0.083, 0.05, 0.0041]\n",
    "\n",
    "pack_point = [-0.201, -0.369, 380, 0.332, 3.131, -0.026]\n",
    "\n",
    "\n",
    "test_point = [base_reference_point[0]-Box_1_dimentions_grip[0],\n",
    "              base_reference_point[1]-Box_1_dimentions_grip[1],\n",
    "              base_reference_point[2]+Box_1_dimentions_grip[2]+0.12,\n",
    "              base_reference_point[3],\n",
    "              base_reference_point[4],  \n",
    "            base_reference_point[5]]\n",
    "\n",
    "# manipulation.move_linear(robot=robot, goal_point=Box_1_pack_point)\n",
    "manipulation.move_linear(robot=robot, goal_point=test_point)"
   ]
  }
 ],
 "metadata": {
  "kernelspec": {
   "display_name": "Python 3",
   "language": "python",
   "name": "python3"
  },
  "language_info": {
   "codemirror_mode": {
    "name": "ipython",
    "version": 3
   },
   "file_extension": ".py",
   "mimetype": "text/x-python",
   "name": "python",
   "nbconvert_exporter": "python",
   "pygments_lexer": "ipython3",
   "version": "3.13.2"
  }
 },
 "nbformat": 4,
 "nbformat_minor": 5
}
