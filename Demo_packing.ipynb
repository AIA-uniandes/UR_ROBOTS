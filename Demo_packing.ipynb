{
 "cells": [
  {
   "cell_type": "markdown",
   "id": "a87652e9",
   "metadata": {},
   "source": [
    "# Main Text"
   ]
  },
  {
   "cell_type": "markdown",
   "id": "98c4c7d9",
   "metadata": {},
   "source": [
    "## Operation Methodology\n",
    "### 1. Box Preparation:\n",
    "\n",
    "Arrange the boxes in the designated \"pick place\" area in the specific numerical order shown on one of their faces.\n",
    "\n",
    "### 2. Robot Handling:\n",
    "\n",
    "The UR robot will move each box, one at a time, to the \"packing place\" area.\n",
    "\n",
    "### 3. Box Orientation:\n",
    "It is critical that you ensure each box is placed in the correct orientation in the pick place before the robot moves it. This is essential for the robot to pack them correctly.\n",
    "\n"
   ]
  },
  {
   "cell_type": "code",
   "execution_count": null,
   "id": "0ee7951f",
   "metadata": {},
   "outputs": [
    {
     "ename": "ModuleNotFoundError",
     "evalue": "No module named 'urx'",
     "output_type": "error",
     "traceback": [
      "\u001b[1;31m---------------------------------------------------------------------------\u001b[0m",
      "\u001b[1;31mModuleNotFoundError\u001b[0m                       Traceback (most recent call last)",
      "Cell \u001b[1;32mIn[1], line 1\u001b[0m\n\u001b[1;32m----> 1\u001b[0m \u001b[38;5;28;01mimport\u001b[39;00m \u001b[38;5;21;01mToolkit\u001b[39;00m\n\u001b[0;32m      2\u001b[0m \u001b[38;5;28;01mimport\u001b[39;00m \u001b[38;5;21;01mtime\u001b[39;00m\n\u001b[0;32m      3\u001b[0m reference_point \u001b[38;5;241m=\u001b[39m [\u001b[38;5;241m-\u001b[39m\u001b[38;5;241m0.278\u001b[39m, \u001b[38;5;241m-\u001b[39m\u001b[38;5;241m0.336\u001b[39m, \u001b[38;5;241m-\u001b[39m\u001b[38;5;241m0.438\u001b[39m, \u001b[38;5;241m1.450\u001b[39m, \u001b[38;5;241m2.78\u001b[39m, \u001b[38;5;241m-\u001b[39m\u001b[38;5;241m0.027\u001b[39m]\n",
      "File \u001b[1;32mc:\\Users\\Lenovo\\Documents\\GitHub\\UR_ROBOTS\\Toolkit.py:2\u001b[0m\n\u001b[0;32m      1\u001b[0m \u001b[38;5;28;01mimport\u001b[39;00m \u001b[38;5;21;01msocket\u001b[39;00m\n\u001b[1;32m----> 2\u001b[0m \u001b[38;5;28;01mimport\u001b[39;00m \u001b[38;5;21;01murx\u001b[39;00m\n\u001b[0;32m      3\u001b[0m \u001b[38;5;28;01mimport\u001b[39;00m \u001b[38;5;21;01mtime\u001b[39;00m\n\u001b[0;32m      4\u001b[0m \u001b[38;5;28;01mimport\u001b[39;00m \u001b[38;5;21;01mnumpy\u001b[39;00m \u001b[38;5;28;01mas\u001b[39;00m \u001b[38;5;21;01mnp\u001b[39;00m\n",
      "\u001b[1;31mModuleNotFoundError\u001b[0m: No module named 'urx'"
     ]
    }
   ],
   "source": [
    "import Toolkit\n",
    "import time\n",
    "reference_point = [-0.278, -0.336, -0.438, 1.450, 2.78, -0.027]\n",
    "origin_packing_point = [-0.040, -0.479, -0.440, 0.54, 3.094, -0.00]\n",
    "\n",
    "robot = Toolkit.ROBOT(robot_ip=\"157.253.231.86\")\n",
    "manipulation = Toolkit.MANIPULATION()\n",
    "\n",
    "def repeat_fuction(home_point, pack_point, grip_point, release_point):\n",
    "    # Metodología\n",
    "\n",
    "    \"\"\"\n",
    "    1. Ve a manipulation_pose\n",
    "    2. Crea pick point sumando box_pick_dimensions ([x,y,z]) a cada una de las coordenadas de pick_point\n",
    "    3. Ve a pick point\n",
    "    4. Ve a pack_point\n",
    "    5. Ve a release_point\n",
    "    6. Calcula release_point. En este caso, release point será la posición donde quedará la esquina inferior \n",
    "    de la caja \"sin cambiar su orientación\" sumado box_pick_dimensions ([x,y,z])\n",
    "    7. Ve a release_point\n",
    "    \"\"\"\n",
    "    robot = Toolkit.ROBOT(robot_ip=\"157.253.231.86\")\n",
    "    manipulation = Toolkit.MANIPULATION()\n",
    "    manipulation.move_linear(robot=robot, goal_point=home_point)\n",
    "    time.sleep(4)\n",
    "    manipulation.move_linear(robot=robot, goal_point=grip_point)\n",
    "    time.sleep(4)\n",
    "    manipulation.turn_on_VG_urx(robot=robot)\n",
    "    time.sleep(2)\n",
    "    manipulation.move_linear(robot=robot, goal_point=pack_point)\n",
    "    manipulation.move_linear(robot=robot, goal_point=release_point)\n",
    "    time.sleep(4)\n",
    "    manipulation.turn_off_VG_urx(robot=robot)\n",
    "    time.sleep(2)\n",
    "    return"
   ]
  },
  {
   "cell_type": "code",
   "execution_count": null,
   "id": "73c29593",
   "metadata": {},
   "outputs": [
    {
     "name": "stdout",
     "output_type": "stream",
     "text": [
      "\n",
      "\n",
      "        movel(p[-0.04, -0.479, -0.44, 0.54, 3.094, -0.0], a=1.0, v=0.5)\n",
      "        \n",
      "\n",
      "Estoy en execute_instruction <Toolkit.ROBOT object at 0x000001CB1AC889D0>\n",
      "Respuesta raw: b'\\x00\\x00\\x007\\x14\\xff\\xff\\xff\\xff\\xff\\xff\\xff\\xff\\xfe\\x03\\tURControl\\x03\\x0f\\x00\\x00\\x00\\x08\\x00\\x00\\x00\\x0014-06-2022, 08:49:38\\x00\\x00\\x00\\x18\\x14\\xff\\xff\\xff\\xff\\xff\\xff\\xff\\xff\\xfe\\x0c\\x00\\x00\\x01\\xf8\\x00\\x00\\x01\\x00\\x01'\n"
     ]
    }
   ],
   "source": [
    "## Go to reference point\n",
    "manipulation.move_linear(robot=robot, goal_point=origin_packing_point)"
   ]
  },
  {
   "cell_type": "code",
   "execution_count": null,
   "id": "82c3b10b",
   "metadata": {},
   "outputs": [
    {
     "ename": "AttributeError",
     "evalue": "'ROBOT' object has no attribute 'methods'",
     "output_type": "error",
     "traceback": [
      "\u001b[31m---------------------------------------------------------------------------\u001b[39m",
      "\u001b[31mAttributeError\u001b[39m                            Traceback (most recent call last)",
      "\u001b[36mCell\u001b[39m\u001b[36m \u001b[39m\u001b[32mIn[16]\u001b[39m\u001b[32m, line 1\u001b[39m\n\u001b[32m----> \u001b[39m\u001b[32m1\u001b[39m joints = \u001b[43mrobot\u001b[49m\u001b[43m.\u001b[49m\u001b[43mmethods\u001b[49m.getj()  \n\u001b[32m      2\u001b[39m \u001b[38;5;28mprint\u001b[39m(\u001b[33m\"\u001b[39m\u001b[33mPosición articular (rad):\u001b[39m\u001b[33m\"\u001b[39m, joints)\n",
      "\u001b[31mAttributeError\u001b[39m: 'ROBOT' object has no attribute 'methods'"
     ]
    }
   ],
   "source": [
    "joints = robot.methods.getj()  \n",
    "print(\"Posición articular (rad):\", joints)"
   ]
  }
 ],
 "metadata": {
  "kernelspec": {
   "display_name": "Python 3",
   "language": "python",
   "name": "python3"
  },
  "language_info": {
   "codemirror_mode": {
    "name": "ipython",
    "version": 3
   },
   "file_extension": ".py",
   "mimetype": "text/x-python",
   "name": "python",
   "nbconvert_exporter": "python",
   "pygments_lexer": "ipython3",
   "version": "3.11.9"
  }
 },
 "nbformat": 4,
 "nbformat_minor": 5
}
